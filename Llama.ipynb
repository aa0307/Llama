{
 "cells": [
  {
   "cell_type": "markdown",
   "metadata": {},
   "source": [
    "Usage"
   ]
  },
  {
   "cell_type": "markdown",
   "metadata": {},
   "source": [
    "D:\\venv\\Llama\\Scripts\\Activate.ps1  \n",
    "D:\\GitHub\\Llama\\Llama\\Scripts\\Activate.ps1"
   ]
  },
  {
   "cell_type": "code",
   "execution_count": 1,
   "metadata": {},
   "outputs": [
    {
     "name": "stdout",
     "output_type": "stream",
     "text": [
      "The sky appears blue to our eyes due to a phenomenon called Rayleigh scattering, named after the British physicist Lord Rayleigh, who first explained it in the late 19th century.\n",
      "\n",
      "Here's what happens:\n",
      "\n",
      "1. **Sunlight enters Earth's atmosphere**: When sunlight enters our atmosphere, it consists of a broad spectrum of colors, including all the colors of the visible light.\n",
      "2. **Light interacts with tiny molecules**: The sunlight encounters tiny molecules of gases such as nitrogen (N2) and oxygen (O2) in the atmosphere.\n",
      "3. **Scattering occurs**: These tiny molecules scatter the sunlight in all directions, but they scatter shorter (blue) wavelengths more than longer (red) wavelengths. This is known as Rayleigh scattering.\n",
      "4. **Blue light dominates**: As a result of this scattering, the blue light is dispersed throughout the atmosphere, reaching our eyes from all directions.\n",
      "5. **Our eyes perceive the sky as blue**: When we look up at the sky, our eyes receive a lot of blue light scattered from the atmosphere, making it appear blue to us.\n",
      "\n",
      "In summary, the sky appears blue because of Rayleigh scattering, where shorter (blue) wavelengths are scattered more than longer (red) wavelengths by tiny molecules in the atmosphere.\n",
      "\n",
      "It's worth noting that the color of the sky can change under different conditions:\n",
      "\n",
      "* During sunrise and sunset, when the sun is lower on the horizon, the light travels through more of the Earth's atmosphere, scattering off more particles and making the light appear more red.\n",
      "* In the presence of pollution or dust in the air, which scatters shorter wavelengths (like blue) even more than usual, can give the sky a more hazy appearance.\n",
      "\n",
      "So, that's the science behind why the sky is blue!\n",
      "The sky appears blue to our eyes due to a phenomenon called Rayleigh scattering, named after the British physicist Lord Rayleigh, who first explained it in the late 19th century.\n",
      "\n",
      "Here's what happens:\n",
      "\n",
      "1. **Sunlight enters Earth's atmosphere**: When sunlight enters our atmosphere, it consists of a broad spectrum of colors, including all the colors of the visible light.\n",
      "2. **Light interacts with tiny molecules**: The sunlight encounters tiny molecules of gases such as nitrogen (N2) and oxygen (O2) in the atmosphere.\n",
      "3. **Scattering occurs**: These tiny molecules scatter the sunlight in all directions, but they scatter shorter (blue) wavelengths more than longer (red) wavelengths. This is known as Rayleigh scattering.\n",
      "4. **Blue light dominates**: As a result of this scattering, the blue light is dispersed throughout the atmosphere, reaching our eyes from all directions.\n",
      "5. **Our eyes perceive the sky as blue**: When we look up at the sky, our eyes receive a lot of blue light scattered from the atmosphere, making it appear blue to us.\n",
      "\n",
      "In summary, the sky appears blue because of Rayleigh scattering, where shorter (blue) wavelengths are scattered more than longer (red) wavelengths by tiny molecules in the atmosphere.\n",
      "\n",
      "It's worth noting that the color of the sky can change under different conditions:\n",
      "\n",
      "* During sunrise and sunset, when the sun is lower on the horizon, the light travels through more of the Earth's atmosphere, scattering off more particles and making the light appear more red.\n",
      "* In the presence of pollution or dust in the air, which scatters shorter wavelengths (like blue) even more than usual, can give the sky a more hazy appearance.\n",
      "\n",
      "So, that's the science behind why the sky is blue!\n"
     ]
    }
   ],
   "source": [
    "# D:\\GitHub\\Llama\\Llama\\Scripts\\Activate.ps1\n",
    "import ollama\n",
    "from ollama import chat\n",
    "from ollama import ChatResponse\n",
    "\n",
    "response: ChatResponse = chat(model='llama3.2', messages=[\n",
    "  {\n",
    "    'role': 'user',\n",
    "    'content': 'Why is the sky blue?',\n",
    "  },\n",
    "])\n",
    "print(response['message']['content'])\n",
    "# or access fields directly from the response object\n",
    "print(response.message.content)"
   ]
  },
  {
   "cell_type": "code",
   "execution_count": null,
   "metadata": {},
   "outputs": [],
   "source": [
    "# D:\\GitHub\\Llama\\Llama\\Scripts\\Activate.ps1\n",
    "import ollama\n",
    "from ollama import chat\n",
    "from ollama import ChatResponse\n",
    "\n",
    "response: ChatResponse = chat(model='QwQ', messages=[\n",
    "  {\n",
    "    'role': 'user',\n",
    "    'content': 'Why is the sky blue?',\n",
    "  },\n",
    "])\n",
    "print(response['message']['content'])\n",
    "# or access fields directly from the response object\n",
    "print(response.message.content)"
   ]
  },
  {
   "cell_type": "code",
   "execution_count": null,
   "metadata": {},
   "outputs": [
    {
     "ename": "ValueError",
     "evalue": "File path --f=c:\\Users\\user\\AppData\\Roaming\\jupyter\\runtime\\kernel-v34356274d50055d4974c9f4d390f2c3be8dd6fe0b.json is not a valid file or url",
     "output_type": "error",
     "traceback": [
      "\u001b[31m---------------------------------------------------------------------------\u001b[39m",
      "\u001b[31mValueError\u001b[39m                                Traceback (most recent call last)",
      "\u001b[36mCell\u001b[39m\u001b[36m \u001b[39m\u001b[32mIn[3]\u001b[39m\u001b[32m, line 26\u001b[39m\n\u001b[32m     23\u001b[39m embeddings = OllamaEmbeddings(model=\u001b[33m'\u001b[39m\u001b[33mznbang/bge:small-en-v1.5-f32\u001b[39m\u001b[33m'\u001b[39m)\n\u001b[32m     25\u001b[39m \u001b[38;5;66;03m# 2. Load the PDF file and create a retriever to be used for providing context\u001b[39;00m\n\u001b[32m---> \u001b[39m\u001b[32m26\u001b[39m loader = \u001b[43mPyPDFLoader\u001b[49m\u001b[43m(\u001b[49m\u001b[43margv\u001b[49m\u001b[43m[\u001b[49m\u001b[32;43m1\u001b[39;49m\u001b[43m]\u001b[49m\u001b[43m)\u001b[49m\n\u001b[32m     27\u001b[39m \u001b[38;5;66;03m#loader = PyPDFLoader(r\"D:\\PDF\\001_Intro_and_Topic_1.pdf\")\u001b[39;00m\n\u001b[32m     28\u001b[39m pages = loader.load_and_split()\n",
      "\u001b[36mFile \u001b[39m\u001b[32md:\\GitHub\\Llama\\Llama\\Lib\\site-packages\\langchain_community\\document_loaders\\pdf.py:281\u001b[39m, in \u001b[36mPyPDFLoader.__init__\u001b[39m\u001b[34m(self, file_path, password, headers, extract_images, mode, images_parser, images_inner_format, pages_delimiter, extraction_mode, extraction_kwargs)\u001b[39m\n\u001b[32m    238\u001b[39m \u001b[38;5;28;01mdef\u001b[39;00m\u001b[38;5;250m \u001b[39m\u001b[34m__init__\u001b[39m(\n\u001b[32m    239\u001b[39m     \u001b[38;5;28mself\u001b[39m,\n\u001b[32m    240\u001b[39m     file_path: Union[\u001b[38;5;28mstr\u001b[39m, PurePath],\n\u001b[32m   (...)\u001b[39m\u001b[32m    250\u001b[39m     extraction_kwargs: Optional[\u001b[38;5;28mdict\u001b[39m] = \u001b[38;5;28;01mNone\u001b[39;00m,\n\u001b[32m    251\u001b[39m ) -> \u001b[38;5;28;01mNone\u001b[39;00m:\n\u001b[32m    252\u001b[39m \u001b[38;5;250m    \u001b[39m\u001b[33;03m\"\"\"Initialize with a file path.\u001b[39;00m\n\u001b[32m    253\u001b[39m \n\u001b[32m    254\u001b[39m \u001b[33;03m    Args:\u001b[39;00m\n\u001b[32m   (...)\u001b[39m\u001b[32m    279\u001b[39m \u001b[33;03m        `aload` methods to retrieve parsed documents with content and metadata.\u001b[39;00m\n\u001b[32m    280\u001b[39m \u001b[33;03m    \"\"\"\u001b[39;00m\n\u001b[32m--> \u001b[39m\u001b[32m281\u001b[39m     \u001b[38;5;28;43msuper\u001b[39;49m\u001b[43m(\u001b[49m\u001b[43m)\u001b[49m\u001b[43m.\u001b[49m\u001b[34;43m__init__\u001b[39;49m\u001b[43m(\u001b[49m\u001b[43mfile_path\u001b[49m\u001b[43m,\u001b[49m\u001b[43m \u001b[49m\u001b[43mheaders\u001b[49m\u001b[43m=\u001b[49m\u001b[43mheaders\u001b[49m\u001b[43m)\u001b[49m\n\u001b[32m    282\u001b[39m     \u001b[38;5;28mself\u001b[39m.parser = PyPDFParser(\n\u001b[32m    283\u001b[39m         password=password,\n\u001b[32m    284\u001b[39m         mode=mode,\n\u001b[32m   (...)\u001b[39m\u001b[32m    290\u001b[39m         extraction_kwargs=extraction_kwargs,\n\u001b[32m    291\u001b[39m     )\n",
      "\u001b[36mFile \u001b[39m\u001b[32md:\\GitHub\\Llama\\Llama\\Lib\\site-packages\\langchain_community\\document_loaders\\pdf.py:140\u001b[39m, in \u001b[36mBasePDFLoader.__init__\u001b[39m\u001b[34m(self, file_path, headers)\u001b[39m\n\u001b[32m    138\u001b[39m         \u001b[38;5;28mself\u001b[39m.file_path = \u001b[38;5;28mstr\u001b[39m(temp_pdf)\n\u001b[32m    139\u001b[39m \u001b[38;5;28;01melif\u001b[39;00m \u001b[38;5;129;01mnot\u001b[39;00m os.path.isfile(\u001b[38;5;28mself\u001b[39m.file_path):\n\u001b[32m--> \u001b[39m\u001b[32m140\u001b[39m     \u001b[38;5;28;01mraise\u001b[39;00m \u001b[38;5;167;01mValueError\u001b[39;00m(\u001b[33m\"\u001b[39m\u001b[33mFile path \u001b[39m\u001b[38;5;132;01m%s\u001b[39;00m\u001b[33m is not a valid file or url\u001b[39m\u001b[33m\"\u001b[39m % \u001b[38;5;28mself\u001b[39m.file_path)\n",
      "\u001b[31mValueError\u001b[39m: File path --f=c:\\Users\\user\\AppData\\Roaming\\jupyter\\runtime\\kernel-v34356274d50055d4974c9f4d390f2c3be8dd6fe0b.json is not a valid file or url"
     ]
    }
   ],
   "source": [
    "# Go to path\n",
    "# cd D:\\GitHub\\Llama\n",
    "# create venv\n",
    "# \n",
    "# python \n",
    "# Activate venv\n",
    "# D:\\GitHub\\Llama\\Llama\\Scripts\\Activate.ps1\n",
    "\n",
    "# pip install langchain langchain-community pypdf docarray\n",
    "\n",
    "# ollama pull znbang/bge:small-en-v1.5-f32\n",
    "# from langchain_ollama import ChatOllama\n",
    "from langchain_ollama import ChatOllama\n",
    "from langchain_community.document_loaders import PyPDFLoader\n",
    "from langchain.prompts import PromptTemplate\n",
    "from langchain_community.vectorstores import DocArrayInMemorySearch\n",
    "from langchain_community.embeddings import OllamaEmbeddings\n",
    "from langchain_core.output_parsers import StrOutputParser\n",
    "from langchain_core.runnables import RunnablePassthrough\n",
    "from sys import argv\n",
    "\n",
    "# 1. Create the model\n",
    "llm = ChatOllama(model='llama3.2')\n",
    "embeddings = OllamaEmbeddings(model='znbang/bge:small-en-v1.5-f32')\n",
    "\n",
    "# 2. Load the PDF file and create a retriever to be used for providing context\n",
    "loader = PyPDFLoader(argv[1])\n",
    "#loader = PyPDFLoader(r\"D:\\PDF\\001_Intro_and_Topic_1.pdf\")\n",
    "pages = loader.load_and_split()\n",
    "store = DocArrayInMemorySearch.from_documents(pages, embedding=embeddings)\n",
    "retriever = store.as_retriever()\n",
    "\n",
    "# 3. Create the prompt template\n",
    "template = \"\"\"\n",
    "Answer the question based only on the context provided.\n",
    "\n",
    "Context: {context}\n",
    "\n",
    "Question: {question}\n",
    "\"\"\"\n",
    "\n",
    "prompt = PromptTemplate.from_template(template)\n",
    "\n",
    "def format_docs(docs):\n",
    "  return \"\\n\\n\".join(doc.page_content for doc in docs)\n",
    "\n",
    "# 4. Build the chain of operations\n",
    "chain = (\n",
    "  {\n",
    "    'context': retriever | format_docs,\n",
    "    'question': RunnablePassthrough(),\n",
    "  }\n",
    "  | prompt\n",
    "  | llm\n",
    "  | StrOutputParser()\n",
    ")\n",
    "\n",
    "# 5. Start asking questions and getting answers in a loop\n",
    "while True:\n",
    "  question = input('What do you want to learn from the document?\\n')\n",
    "  print()\n",
    "  print(chain.invoke({'question': question}))\n",
    "  print()"
   ]
  }
 ],
 "metadata": {
  "kernelspec": {
   "display_name": "Llama",
   "language": "python",
   "name": "python3"
  },
  "language_info": {
   "codemirror_mode": {
    "name": "ipython",
    "version": 3
   },
   "file_extension": ".py",
   "mimetype": "text/x-python",
   "name": "python",
   "nbconvert_exporter": "python",
   "pygments_lexer": "ipython3",
   "version": "3.12.0"
  }
 },
 "nbformat": 4,
 "nbformat_minor": 2
}
